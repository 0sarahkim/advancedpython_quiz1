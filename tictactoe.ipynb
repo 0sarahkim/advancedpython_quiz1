{
 "cells": [
  {
   "cell_type": "code",
   "execution_count": 12,
   "id": "16ec6d3c",
   "metadata": {},
   "outputs": [],
   "source": [
    "import numpy as np"
   ]
  },
  {
   "cell_type": "code",
   "execution_count": 157,
   "id": "e5715aa6",
   "metadata": {},
   "outputs": [],
   "source": [
    "def tictactoe(matrix):\n",
    "    mat = matrix.reshape(1,9)\n",
    "    mat = mat[(mat == 'O') | (mat == 'X')]\n",
    "    if len(mat) < 9:\n",
    "        print('Game is not completded')\n",
    "    else:\n",
    "        r1 = matrix[0,:,]\n",
    "        r2 = matrix[1,:,]\n",
    "        r3 = matrix[2,:,]\n",
    "        c1 = matrix[:,0,]\n",
    "        c2 = matrix[:,1,]\n",
    "        c3 = matrix[:,2,]\n",
    "        d1 = np.array([matrix[0,0],matrix[1,1],matrix[2,2]])\n",
    "        d2 = np.array([matrix[0,2],matrix[1,1],matrix[2,0]])\n",
    "        o = np.array(['O','O','O']) \n",
    "        x = np.array(['X','X','X'])\n",
    "        if all(r1==o) or all(r2==o) or all(r3==o) or all(c1==o) or all(c2==o) or all(c3==o) or all(d1==o) or all(d2==o):\n",
    "            print('O win!!!')\n",
    "                                                                        \n",
    "        elif all(r1==x) or all(r2==x) or all(r3==x) or all(c1==x) or all(c2==x) or all(c3==x) or all(d1==x) or all(d2==x):\n",
    "            print('X win!!!')\n",
    "        else:\n",
    "            print('Result is ambiguous!!!')\n",
    "                                                                                                                                                                                                                                       "
   ]
  },
  {
   "cell_type": "code",
   "execution_count": null,
   "id": "1a498ae5",
   "metadata": {},
   "outputs": [],
   "source": []
  },
  {
   "cell_type": "code",
   "execution_count": 164,
   "id": "284b7c53",
   "metadata": {},
   "outputs": [],
   "source": [
    "game1 = np.array([['O','O','O'],['X','O','O'],['X','O', 'X']])\n",
    "game2 = np.array([['X','X','X'],['X','O','O'],['O','O', 'X']])\n",
    "game3 = np.array([['X',' ','X'],['X',' ','O'],['X','O', ' ']])\n",
    "game4 = np.array([['X','O','O'],['O','X','O'],['O','X', 'X']])"
   ]
  },
  {
   "cell_type": "code",
   "execution_count": null,
   "id": "f677d807",
   "metadata": {},
   "outputs": [],
   "source": []
  },
  {
   "cell_type": "code",
   "execution_count": 161,
   "id": "135d86c2",
   "metadata": {
    "scrolled": true
   },
   "outputs": [
    {
     "name": "stdout",
     "output_type": "stream",
     "text": [
      "X win!!!\n"
     ]
    }
   ],
   "source": [
    "tictactoe(game1)"
   ]
  },
  {
   "cell_type": "code",
   "execution_count": 162,
   "id": "8c4db485",
   "metadata": {},
   "outputs": [
    {
     "name": "stdout",
     "output_type": "stream",
     "text": [
      "X win!!!\n"
     ]
    }
   ],
   "source": [
    "tictactoe(game2)"
   ]
  },
  {
   "cell_type": "code",
   "execution_count": 163,
   "id": "1c984fe9",
   "metadata": {
    "scrolled": true
   },
   "outputs": [
    {
     "name": "stdout",
     "output_type": "stream",
     "text": [
      "Game is not completded\n"
     ]
    }
   ],
   "source": [
    "tictactoe(game3)"
   ]
  },
  {
   "cell_type": "code",
   "execution_count": 165,
   "id": "541abe61",
   "metadata": {},
   "outputs": [
    {
     "name": "stdout",
     "output_type": "stream",
     "text": [
      "X win!!!\n"
     ]
    }
   ],
   "source": [
    "tictactoe(game4)"
   ]
  },
  {
   "cell_type": "code",
   "execution_count": null,
   "id": "a747d124",
   "metadata": {},
   "outputs": [],
   "source": []
  }
 ],
 "metadata": {
  "kernelspec": {
   "display_name": "Python 3 (ipykernel)",
   "language": "python",
   "name": "python3"
  },
  "language_info": {
   "codemirror_mode": {
    "name": "ipython",
    "version": 3
   },
   "file_extension": ".py",
   "mimetype": "text/x-python",
   "name": "python",
   "nbconvert_exporter": "python",
   "pygments_lexer": "ipython3",
   "version": "3.9.7"
  }
 },
 "nbformat": 4,
 "nbformat_minor": 5
}
